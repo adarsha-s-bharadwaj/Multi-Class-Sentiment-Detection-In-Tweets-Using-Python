{
 "cells": [
  {
   "cell_type": "code",
   "execution_count": 5,
   "id": "5bf7060b",
   "metadata": {},
   "outputs": [
    {
     "name": "stdout",
     "output_type": "stream",
     "text": [
      "Classification Report:\n",
      "              precision    recall  f1-score   support\n",
      "\n",
      "           N       0.87      0.79      0.83       165\n",
      "           P       0.31      0.43      0.36        35\n",
      "\n",
      "    accuracy                           0.73       200\n",
      "   macro avg       0.59      0.61      0.59       200\n",
      "weighted avg       0.77      0.73      0.75       200\n",
      "\n",
      "Accuracy: 0.73\n"
     ]
    },
    {
     "data": {
      "image/png": "[encoded data removed]",
      "text/plain": [
       "<Figure size 1000x800 with 2 Axes>"
      ]
     },
     "metadata": {},
     "output_type": "display_data"
    }
   ],
   "source": [
    "# sentiment analysis of text twitter data\n",
    "import re\n",
    "import numpy as np\n",
    "import seaborn as sns\n",
    "import matplotlib.pyplot as plt\n",
    "from sklearn.metrics import confusion_matrix, plot_confusion_matrix\n",
    "from sklearn.metrics import classification_report\n",
    " \n",
    " \n",
    "def clean_tweet( tweet):\n",
    "        '''\n",
    "        Utility function to clean tweet text by removing links, special characters\n",
    "        using simple regex statements.\n",
    "        '''\n",
    "        tweet = tweet.lower() \n",
    "        return ' '.join(re.sub(\"(@[A-Za-z0-9]+)|([^0-9A-Za-z \\t])|(\\w+:\\/\\/\\S+)\", \" \", tweet).split())\n",
    "     \n",
    " \n",
    "from many_stop_words import get_stop_words\n",
    "from nltk.corpus import stopwords\n",
    "from nltk.tokenize import word_tokenize\n",
    "from itertools import chain\n",
    " \n",
    "from nltk.classify import NaiveBayesClassifier, accuracy\n",
    "stop_words = list(get_stop_words('en'))         #About 900 stopwords\n",
    "nltk_words = list(stopwords.words('english'))   #About 150 stopwords\n",
    "stop_words.extend(nltk_words)\n",
    " \n",
    "def remove_stopwords(word_list):\n",
    "  \n",
    "        filtered_tweet=\"\"\n",
    "        for word in word_list:\n",
    "            word = word.lower() # in case they arenet all lower cased\n",
    "            if word not in stopwords.words(\"english\"):\n",
    "                filtered_tweet=filtered_tweet + \" \" + word\n",
    "         \n",
    "         \n",
    "        return filtered_tweet.lstrip()\n",
    "     \n",
    " \n",
    "filename= \"text_emotion.csv\"\n",
    "    \n",
    "polarity = {'empty' : 'N',\n",
    "                'sadness' : 'N',\n",
    "                'enthusiasm' : 'P',\n",
    "                'neutral' : 'neutral',\n",
    "                'worry' : 'N',\n",
    "                'surprise' : 'P',\n",
    "                'love' : 'P',\n",
    "                'fun' : 'P',\n",
    "                'hate' : 'N',\n",
    "                'happiness' : 'P',\n",
    "                'boredom' : 'N',\n",
    "                'relief' : 'P',\n",
    "                'anger' : 'N'\n",
    "         }  \n",
    "    \n",
    "tweets = []\n",
    "training_data = []\n",
    "import csv\n",
    "with open(filename) as csvDataFile:\n",
    "    csvReader = csv.reader(csvDataFile)\n",
    "    count=0\n",
    "    for row in csvReader:\n",
    "       \n",
    "        if (row[1] == 'neutral' or row[1] == 'sentiment') :\n",
    "            continue\n",
    "        tweet= clean_tweet(row[3])\n",
    "        tweet = remove_stopwords(tweet.split())\n",
    "        tweets.append(tweet)\n",
    "        training_data.append([tweet,  polarity[row[1]] ])\n",
    "        count=count+1\n",
    "        if (count >1000):\n",
    "            break\n",
    "         \n",
    "vocabulary = set(chain(*[word_tokenize(i[0].lower()) for i in training_data]))\n",
    " \n",
    "feature_set = [({i:(i in word_tokenize(sentence.lower())) for i in vocabulary},tag) for sentence, tag in training_data]\n",
    " \n",
    "size = int(len(feature_set) * 0.2)\n",
    "train_set, test_set = feature_set[size:], feature_set[:size]\n",
    " \n",
    "classifier = NaiveBayesClassifier.train(train_set)\n",
    "\n",
    "# Predictions\n",
    "predicted = classifier.classify_many([fs for fs, _ in test_set])\n",
    "actual = [tag for _, tag in test_set]\n",
    "\n",
    "# Classification report\n",
    "print(\"Classification Report:\")\n",
    "print(classification_report(actual, predicted))\n",
    "\n",
    "# Accuracy\n",
    "accuracy = accuracy(classifier, test_set)\n",
    "print(\"Accuracy:\", accuracy)\n",
    "\n",
    "# Confusion matrix\n",
    "cm = confusion_matrix(actual, predicted)\n",
    "labels = list(set(actual))\n",
    "\n",
    "# Confusion matrix visualization\n",
    "plt.figure(figsize=(10,8))\n",
    "sns.heatmap(cm, annot=True, cmap='Blues', fmt='g', xticklabels=labels, yticklabels=labels)\n",
    "plt.xlabel('Predicted')\n",
    "plt.ylabel('Actual')\n",
    "plt.title('Confusion Matrix')\n",
    "plt.show()\n"
   ]
  },
  {
   "cell_type": "code",
   "execution_count": 2,
   "id": "d96c735e",
   "metadata": {},
   "outputs": [
    {
     "name": "stdout",
     "output_type": "stream",
     "text": [
      "Collecting many-stop-words\n",
      "  Downloading many-stop-words-0.2.2.tar.gz (25 kB)\n",
      "  Preparing metadata (setup.py): started\n",
      "  Preparing metadata (setup.py): finished with status 'done'\n",
      "Building wheels for collected packages: many-stop-words\n",
      "  Building wheel for many-stop-words (setup.py): started\n",
      "  Building wheel for many-stop-words (setup.py): finished with status 'done'\n",
      "  Created wheel for many-stop-words: filename=many_stop_words-0.2.2-py3-none-any.whl size=26223 sha256=a54168f17e05fa27876a20f88d6ab85ce943d1fceeb5e4bbfe080c5fe10be9b9\n",
      "  Stored in directory: c:\\users\\sync\\appdata\\local\\pip\\cache\\wheels\\a3\\95\\84\\8da1a39a0ea0218b3c9eb49be7ddc649b94c830540f624009b\n",
      "Successfully built many-stop-words\n",
      "Installing collected packages: many-stop-words\n",
      "Successfully installed many-stop-words-0.2.2\n"
     ]
    },
    {
     "name": "stderr",
     "output_type": "stream",
     "text": [
      "WARNING: Ignoring invalid distribution -umpy (c:\\users\\sync\\anaconda3\\lib\\site-packages)\n",
      "WARNING: Ignoring invalid distribution -umpy (c:\\users\\sync\\anaconda3\\lib\\site-packages)\n"
     ]
    }
   ],
   "source": [
    "!pip install many-stop-words"
   ]
  },
  {
   "cell_type": "code",
   "execution_count": null,
   "id": "db6cf86b",
   "metadata": {},
   "outputs": [],
   "source": []
  }
 ],
 "metadata": {
  "kernelspec": {
   "display_name": "Python 3 (ipykernel)",
   "language": "python",
   "name": "python3"
  },
  "language_info": {
   "codemirror_mode": {
    "name": "ipython",
    "version": 3
   },
   "file_extension": ".py",
   "mimetype": "text/x-python",
   "name": "python",
   "nbconvert_exporter": "python",
   "pygments_lexer": "ipython3",
   "version": "3.9.13"
  }
 },
 "nbformat": 4,
 "nbformat_minor": 5
}
